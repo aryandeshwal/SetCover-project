{
 "cells": [
  {
   "cell_type": "code",
   "execution_count": 33,
   "metadata": {},
   "outputs": [],
   "source": [
    "import numpy as np\n",
    "import time"
   ]
  },
  {
   "cell_type": "code",
   "execution_count": 34,
   "metadata": {},
   "outputs": [],
   "source": [
    "# CONSTANTS\n",
    "NO_METERS_P = 108\n",
    "NO_POLES_P = 117\n",
    "NO_METERS_C = 7172\n",
    "NO_POLES_C = 6550"
   ]
  },
  {
   "cell_type": "code",
   "execution_count": 35,
   "metadata": {},
   "outputs": [],
   "source": [
    "# ask user whether cap360 or phase1\n",
    "#          whether preprocessing or not"
   ]
  },
  {
   "cell_type": "code",
   "execution_count": 36,
   "metadata": {},
   "outputs": [],
   "source": [
    "data_file = np.loadtxt('cap360.txt', dtype=np.int32)\n",
    "#data_file = np.loadtxt('phase1.txt', dtype=np.int32)"
   ]
  },
  {
   "cell_type": "code",
   "execution_count": null,
   "metadata": {},
   "outputs": [],
   "source": [
    "# Create an adjacency matrix of poles and meters\n",
    "Adj_pm = np.zeros((NO_POLES_P, NO_METERS_P))\n",
    "# Create an adjacency list for each pole\n",
    "poles = [[] for i in range(NO_POLES_P)]\n",
    "# Create an adjacency list for each meter\n",
    "meters = [[] for i in range(NO_METERS_P)]\n"
   ]
  },
  {
   "cell_type": "code",
   "execution_count": 25,
   "metadata": {},
   "outputs": [],
   "source": [
    "# Create an adjacency matrix of poles and meters\n",
    "Adj_pm = np.zeros((NO_POLES_C, NO_METERS_C))\n",
    "# Create an adjacency list for each pole\n",
    "poles = [[] for i in range(NO_POLES_C+1)]\n",
    "# Create an adjacency list for each meter\n",
    "meters = [[] for i in range(NO_METERS_C+1)]\n"
   ]
  },
  {
   "cell_type": "code",
   "execution_count": 26,
   "metadata": {
    "scrolled": false
   },
   "outputs": [],
   "source": [
    "for x in data_file:\n",
    "    if (x[1]-1 < 0):\n",
    "        print(\"sime\")\n",
    "        print(x)\n",
    "    #x[0] -= 1 # Converting to 0-index\n",
    "    #x[1] -= 1\n",
    "    #Adj_pm[x[1]][x[0]] = 1\n",
    "    #meters[x[0]].append(x[1])\n",
    "    poles[x[1]].append(x[0])"
   ]
  },
  {
   "cell_type": "code",
   "execution_count": null,
   "metadata": {},
   "outputs": [],
   "source": []
  },
  {
   "cell_type": "code",
   "execution_count": 32,
   "metadata": {},
   "outputs": [],
   "source": [
    "with open(\"testdatafile\", \"w\") as f:\n",
    "    for i in range(NO_POLES_C + 1):\n",
    "        for j in range(len(poles[i])):\n",
    "            if (j == len(poles[j]) - 1):\n",
    "                print(poles[i][j], end = \"\\n\", file = f)\n",
    "            else:\n",
    "                print(poles[i][j], end = \" \", file = f)\n",
    "        #print(\"\\n\", file =f)\n"
   ]
  },
  {
   "cell_type": "code",
   "execution_count": null,
   "metadata": {},
   "outputs": [],
   "source": [
    "start_time = time.time()\n",
    "sorted_array = np.argsort([len(x) for x in poles])[::-1]\n",
    "# Create an empty for covered meters\n",
    "cov_meters = np.zeros(NO_METERS_C)\n",
    "# list of covered meters\n",
    "list_cov_meters = []\n",
    "# list of covering poles\n",
    "list_cov_poles = []\n",
    "j = 0\n",
    "while (np.any(cov_meters == 0)):\n",
    "#for j in range(len(sorted_array)):\n",
    "    best_pole = sorted_array[j] # best pole by length\n",
    "    list_cov_poles.append(best_pole)\n",
    "    for x in (poles[best_pole]):\n",
    "        cov_meters[x] += 1\n",
    "        #if x not in list_cov_meters:\n",
    "         #   list_cov_meters.append(x)\n",
    "    #j += 1\n",
    "    # Clean up\n",
    "    for i in range(0, len(list_cov_poles), 1): # for each already selected pole(sp)\n",
    "        if (i >= len(list_cov_poles)):\n",
    "            break\n",
    "        sp = list_cov_poles[i]\n",
    "        cleanable = True\n",
    "        for x in (poles[sp]):\n",
    "            if ((cov_meters[x] - 1) == 0):\n",
    "                cleanable = False\n",
    "                break\n",
    "        if (cleanable):\n",
    "            list_cov_poles.remove(sp)\n",
    "            #print(\"\\nremoving \", sp)\n",
    "            for x in (poles[sp]):\n",
    "                cov_meters[x] -= 1\n",
    "                #print(x, \"   \", cov_meters[x])\n",
    "           #print(\"----------------------\")\n",
    "print((time.time() - start_time))\n",
    "print(len(list_cov_poles))\n",
    "print(list_cov_poles)"
   ]
  },
  {
   "cell_type": "code",
   "execution_count": null,
   "metadata": {},
   "outputs": [],
   "source": [
    "%%time \n",
    "for i in range(8000):\n",
    "    x = (Adj_pm[:, np.argsort(np.sum(Adj_pm, axis=0))].sum(axis=0))\n"
   ]
  },
  {
   "cell_type": "markdown",
   "metadata": {},
   "source": [
    "### Matrix based solution"
   ]
  },
  {
   "cell_type": "code",
   "execution_count": null,
   "metadata": {},
   "outputs": [],
   "source": [
    "data_file = np.loadtxt('cap360.txt', dtype=np.int32)\n",
    "# Create a meters x poles matrix\n",
    "Adj_pm = np.zeros((NO_METERS_C, NO_POLES_C))\n",
    "# another modifiable matrix \n",
    "Mod_adj_pm = np.zeros((NO_METERS_C, NO_POLES_C))\n",
    "for x in data_file:\n",
    "    if (x[1]-1 < 0):\n",
    "        print(\"sime\")\n",
    "        print(x)\n",
    "    x[0] -= 1 # Converting to 0-index\n",
    "    x[1] -= 1\n",
    "    Adj_pm[x[0]][x[1]] = 1\n",
    "    Mod_adj_pm[x[0]][x[1]] = 1"
   ]
  },
  {
   "cell_type": "code",
   "execution_count": null,
   "metadata": {},
   "outputs": [],
   "source": [
    "st = time.time()\n",
    "Adj_pm[:, np.argsort(np.sum(Adj_pm, axis=0))]\n",
    "print(time.time() - st)"
   ]
  },
  {
   "cell_type": "code",
   "execution_count": null,
   "metadata": {},
   "outputs": [],
   "source": [
    "x = Adj_pm[:, np.argsort(np.sum(Adj_pm, axis=0))]"
   ]
  },
  {
   "cell_type": "code",
   "execution_count": null,
   "metadata": {},
   "outputs": [],
   "source": [
    "a = np.argsort(np.sum(Adj_pm, axis = 0))[::-1]"
   ]
  },
  {
   "cell_type": "code",
   "execution_count": null,
   "metadata": {},
   "outputs": [],
   "source": [
    "a[0]"
   ]
  },
  {
   "cell_type": "code",
   "execution_count": null,
   "metadata": {},
   "outputs": [],
   "source": [
    "l = []"
   ]
  },
  {
   "cell_type": "code",
   "execution_count": null,
   "metadata": {},
   "outputs": [],
   "source": [
    "l.append(int(x) for x in np.argwhere(Adj_pm[:, a[0]] == 1))"
   ]
  },
  {
   "cell_type": "code",
   "execution_count": null,
   "metadata": {},
   "outputs": [],
   "source": [
    "l"
   ]
  },
  {
   "cell_type": "code",
   "execution_count": null,
   "metadata": {},
   "outputs": [],
   "source": []
  },
  {
   "cell_type": "code",
   "execution_count": null,
   "metadata": {},
   "outputs": [],
   "source": [
    "data_file = np.loadtxt('cap360.txt', dtype=np.int32)\n",
    "# Create a meters x poles matrix\n",
    "Adj_pm = np.zeros((NO_METERS_C, NO_POLES_C))\n",
    "# another modifiable matrix \n",
    "Mod_adj_pm = np.zeros((NO_METERS_C, NO_POLES_C))\n",
    "for x in data_file:\n",
    "    if (x[1]-1 < 0):\n",
    "        print(\"sime\")\n",
    "        print(x)\n",
    "    x[0] -= 1 # Converting to 0-index\n",
    "    x[1] -= 1\n",
    "    Adj_pm[x[0]][x[1]] = 1\n",
    "    Mod_adj_pm[x[0]][x[1]] = 1\n",
    "\n",
    "start_time = time.time()\n",
    "# Create an empty for covered meters\n",
    "cov_meters = np.zeros(NO_METERS_C)\n",
    "# list of covered meters\n",
    "list_cov_meters = []\n",
    "# list of covering poles\n",
    "list_cov_poles = []\n",
    "j = 0\n",
    "indices = np.argsort(np.sum(Mod_adj_pm, axis = 0))[::-1]\n",
    "while (np.any(cov_meters == 0)):\n",
    "    # get sorting indices\n",
    "    #indices = np.argsort(np.sum(Mod_adj_pm, axis = 0))[::-1]\n",
    "    # add the best pole (indices[0])\n",
    "    list_cov_poles.append(indices[j])\n",
    "    #print(indices[0],\"pole added\")\n",
    "    # find the corresponding column in the matrix\n",
    "    x = Mod_adj_pm[:, indices[j]]\n",
    "    j += 1\n",
    "    # find the meters covered by this pole and add to overall covered meters\n",
    "    # and set the corresponding row of the meter to zero\n",
    "    met_poles = np.argwhere(x == 1) # orders of 10-4\n",
    "    for met_idx in met_poles:\n",
    "        cov_meters[int(met_idx)] += 1\n",
    "        #Mod_adj_pm[met_idx, :] = 0\n",
    "    # Clean up\n",
    "    #st = time.time()\n",
    "    for i in range(0, len(list_cov_poles)): # for each already selected pole(sp)\n",
    "        if (i >= len(list_cov_poles)):\n",
    "            break\n",
    "        sp = list_cov_poles[i]\n",
    "        cleanable = True\n",
    "        meters_by_sp = np.argwhere(Adj_pm[:, sp] == 1) # meters covered by sp\n",
    "        #print(meters_by_sp)\n",
    "        for x in (meters_by_sp):\n",
    "            if ((cov_meters[int(x)] - 1) == 0):\n",
    "                cleanable = False\n",
    "                break\n",
    "        if (cleanable):\n",
    "            list_cov_poles.remove(sp)\n",
    "            print(\"\\nremoving \", sp)\n",
    "            for x in (meters_by_sp):\n",
    "                cov_meters[int(x)] -= 1\n",
    "                #print(x, \"   \", cov_meters[x])\n",
    "    #print(time.time()-st)\n",
    "    \n",
    "    #print(cov_meters)\n",
    "    print(np.sum(cov_meters != 0))\n",
    "print((time.time() - start_time))\n",
    "print(len(list_cov_poles))\n",
    "#print(list_cov_poles)"
   ]
  },
  {
   "cell_type": "code",
   "execution_count": null,
   "metadata": {},
   "outputs": [],
   "source": [
    "# Greedy algorithm\n",
    "data_file = np.loadtxt('cap360.txt', dtype=np.int32)\n",
    "# Create a meters x poles matrix\n",
    "Adj_pm = np.zeros((NO_METERS_C, NO_POLES_C))\n",
    "# another modifiable matrix \n",
    "Mod_adj_pm = np.zeros((NO_METERS_C, NO_POLES_C))\n",
    "for x in data_file:\n",
    "    x[0] -= 1 # Converting to 0-index\n",
    "    x[1] -= 1\n",
    "    Adj_pm[x[0]][x[1]] = 1\n",
    "    Mod_adj_pm[x[0]][x[1]] = 1\n",
    "\n",
    "start_time = time.time()\n",
    "# Create an zero vector for covered meters (assigned 0 for uncovered meters)\n",
    "cov_meters = np.zeros(NO_METERS_C)\n",
    "# list of covered meters\n",
    "list_cov_meters = []\n",
    "# list of covering poles\n",
    "list_cov_poles = []\n",
    "total = 0\n",
    "while (np.any(cov_meters == 0)):\n",
    "    # get sorting indices\n",
    "    #indices = np.argsort(np.sum(Mod_adj_pm, axis = 0))[::-1]\n",
    "    indices = np.argmax(np.sum(Mod_adj_pm, axis = 0))\n",
    "    #print(\"best pole is \", indices)\n",
    "    # add the best pole (indices)\n",
    "    list_cov_poles.append(indices)\n",
    "    # find the corresponding column in the matrix\n",
    "    x = Adj_pm[:, indices]\n",
    "    # find the meters covered by this pole and add to overall covered meters\n",
    "    # and set the corresponding row of the meter to zero\n",
    "    met_poles = [int(m) for m in np.argwhere(x == 1)] # time in orders of 10-4\n",
    "    cov_meters[met_poles] += 1\n",
    "    Mod_adj_pm[met_poles, :] = 0\n",
    "    #for met_idx in met_poles:\n",
    "        #cov_meters[int(met_idx)] += 1\n",
    "        #Mod_adj_pm[met_idx, :] = 0\n",
    "    # Clean up\n",
    "    #st = time.time()\n",
    "    clean_up_indices = []\n",
    "    for i in range(0, len(list_cov_poles), 10): # for each already selected pole(sp)\n",
    "        #if (i >= len(list_cov_poles)):\n",
    "        #    break\n",
    "        sp = list_cov_poles[i]\n",
    "        #cleanable = True\n",
    "        #print(meters_by_sp)\n",
    "        #for x in (meters_by_sp):\n",
    "        #    if ((cov_meters[int(x)] - 1) == 0):\n",
    "        #        cleanable = False\n",
    "        #        break\n",
    "        meters_by_sp = [int(m) for m in np.argwhere(Adj_pm[:, sp] == 1)] # meters covered by sp\n",
    "        if (np.any((cov_meters[meters_by_sp]-1) == 0) == False):\n",
    "            clean_up_indices.append(i)\n",
    "            #list_cov_poles.remove(sp)\n",
    "            print(\"\\nremoving \", sp)\n",
    "            cov_meters[meters_by_sp] -= 1\n",
    "            #for x in (meters_by_sp):\n",
    "                #cov_meters[int(x)] -= 1\n",
    "                #print(x, \"   \", cov_meters[x])\n",
    "    st = time.time()\n",
    "    for j in sorted(clean_up_indices, reverse=True):\n",
    "        del list_cov_poles[j]\n",
    "    total += (time.time()-st)\n",
    "    #print(time.time()-st)\n",
    "    #print(cov_meters)\n",
    "    #print(np.sum(cov_meters != 0))\n",
    "print((time.time() - start_time))\n",
    "print(len(list_cov_poles))\n",
    "print(total)\n",
    "#print(list_cov_poles)"
   ]
  },
  {
   "cell_type": "code",
   "execution_count": 40,
   "metadata": {
    "collapsed": true
   },
   "outputs": [
    {
     "name": "stdout",
     "output_type": "stream",
     "text": [
      "14\n",
      "20\n",
      "23\n",
      "26\n",
      "30\n",
      "38\n",
      "46\n",
      "53\n",
      "60\n",
      "63\n",
      "69\n",
      "75\n",
      "78\n",
      "83\n",
      "88\n",
      "93\n",
      "95\n",
      "97\n",
      "99\n",
      "101\n",
      "105\n",
      "107\n",
      "109\n",
      "111\n",
      "113\n",
      "117\n",
      "119\n",
      "121\n",
      "125\n",
      "127\n",
      "131\n",
      "135\n",
      "139\n",
      "141\n",
      "145\n",
      "147\n",
      "149\n",
      "151\n",
      "153\n",
      "157\n",
      "161\n",
      "163\n",
      "166\n",
      "169\n",
      "172\n",
      "175\n",
      "178\n",
      "181\n",
      "184\n",
      "187\n",
      "190\n",
      "193\n",
      "196\n",
      "199\n",
      "201\n",
      "203\n",
      "205\n",
      "207\n",
      "209\n",
      "211\n",
      "213\n",
      "215\n",
      "217\n",
      "219\n",
      "221\n",
      "223\n",
      "225\n",
      "227\n",
      "229\n",
      "231\n",
      "233\n",
      "234\n",
      "235\n",
      "236\n",
      "237\n",
      "238\n",
      "239\n",
      "240\n",
      "297\n",
      "354\n",
      "408\n",
      "459\n",
      "509\n",
      "559\n",
      "608\n",
      "657\n",
      "705\n",
      "753\n",
      "799\n",
      "845\n",
      "891\n",
      "937\n",
      "982\n",
      "1026\n",
      "1070\n",
      "1114\n",
      "1157\n",
      "1200\n",
      "1243\n",
      "1285\n",
      "1327\n",
      "1369\n",
      "1411\n",
      "1452\n",
      "1493\n",
      "1534\n",
      "1575\n",
      "1615\n",
      "1654\n",
      "1693\n",
      "1732\n",
      "1771\n",
      "1810\n",
      "1848\n",
      "1886\n",
      "1924\n",
      "1961\n",
      "1998\n",
      "2035\n",
      "2072\n",
      "2108\n",
      "2144\n",
      "2180\n",
      "2215\n",
      "2250\n",
      "2285\n",
      "2320\n",
      "2355\n",
      "2390\n",
      "2425\n",
      "2460\n",
      "2494\n",
      "2528\n",
      "2562\n",
      "2596\n",
      "2629\n",
      "2662\n",
      "2695\n",
      "2727\n",
      "2759\n",
      "2791\n",
      "2823\n",
      "2854\n",
      "2885\n",
      "2916\n",
      "2947\n",
      "2977\n",
      "3007\n",
      "3037\n",
      "3067\n",
      "3097\n",
      "3126\n",
      "3155\n",
      "3184\n",
      "3213\n",
      "3241\n",
      "3269\n",
      "3297\n",
      "3325\n",
      "3353\n",
      "3381\n",
      "3408\n",
      "3435\n",
      "3462\n",
      "3488\n",
      "3514\n",
      "3540\n",
      "3566\n",
      "3591\n",
      "3616\n",
      "3641\n",
      "3666\n",
      "3691\n",
      "3716\n",
      "3741\n",
      "3766\n",
      "3790\n",
      "3814\n",
      "3838\n",
      "3862\n",
      "3886\n",
      "3910\n",
      "3934\n",
      "3957\n",
      "3980\n",
      "4003\n",
      "4026\n",
      "4049\n",
      "4072\n",
      "4095\n",
      "4118\n",
      "4141\n",
      "4164\n",
      "4186\n",
      "4208\n",
      "4230\n",
      "4252\n",
      "4274\n",
      "4296\n",
      "4318\n",
      "4340\n",
      "4361\n",
      "4382\n",
      "4403\n",
      "4424\n",
      "4445\n",
      "4466\n",
      "4487\n",
      "4507\n",
      "4527\n",
      "4547\n",
      "4567\n",
      "4587\n",
      "4607\n",
      "4627\n",
      "4647\n",
      "4667\n",
      "4687\n",
      "4706\n",
      "4725\n",
      "4744\n",
      "4763\n",
      "4782\n",
      "4801\n",
      "4820\n",
      "4838\n",
      "4856\n",
      "4874\n",
      "4892\n",
      "4909\n",
      "4926\n",
      "4943\n",
      "4960\n",
      "4976\n",
      "4992\n",
      "5008\n",
      "5024\n",
      "5040\n",
      "5056\n",
      "5072\n",
      "5088\n",
      "5104\n",
      "5120\n",
      "5135\n",
      "5150\n",
      "5165\n",
      "5180\n",
      "5195\n",
      "5210\n",
      "5225\n",
      "5240\n",
      "5255\n",
      "5270\n",
      "5284\n",
      "5298\n",
      "5312\n",
      "5326\n",
      "5340\n",
      "5354\n",
      "5368\n",
      "5382\n",
      "5396\n",
      "5410\n",
      "5424\n",
      "5438\n",
      "5452\n",
      "5466\n",
      "5480\n",
      "5493\n",
      "5506\n",
      "5519\n",
      "5532\n",
      "5545\n",
      "5558\n",
      "5571\n",
      "5584\n",
      "5597\n",
      "5610\n",
      "5623\n",
      "5636\n",
      "5649\n",
      "5662\n",
      "5674\n",
      "5686\n",
      "5698\n",
      "5710\n",
      "5722\n",
      "5734\n",
      "5746\n",
      "5758\n",
      "5769\n",
      "5780\n",
      "5791\n",
      "5802\n",
      "5813\n",
      "5824\n",
      "5835\n",
      "5846\n",
      "5857\n",
      "5868\n",
      "5879\n",
      "5890\n",
      "5901\n",
      "5912\n",
      "5923\n",
      "5934\n",
      "5944\n",
      "5954\n",
      "5964\n",
      "5974\n",
      "5984\n",
      "5994\n",
      "6004\n",
      "6014\n",
      "6024\n",
      "6034\n",
      "6043\n",
      "6052\n",
      "6061\n",
      "6070\n",
      "6079\n",
      "6088\n",
      "6097\n",
      "6106\n",
      "6115\n",
      "6124\n",
      "6133\n",
      "6142\n",
      "6151\n",
      "6160\n",
      "6169\n",
      "6178\n",
      "6187\n",
      "6195\n",
      "6203\n",
      "6211\n",
      "6219\n",
      "6227\n",
      "6235\n",
      "6243\n",
      "6251\n",
      "6259\n",
      "6267\n",
      "6275\n",
      "6283\n",
      "6291\n",
      "6299\n",
      "6307\n",
      "6315\n",
      "6323\n",
      "6331\n",
      "6339\n",
      "6346\n",
      "6353\n",
      "6360\n",
      "6367\n",
      "6374\n",
      "6381\n",
      "6388\n",
      "6395\n",
      "6402\n",
      "6409\n",
      "6416\n",
      "6423\n",
      "6430\n",
      "6437\n",
      "6444\n",
      "6451\n",
      "6458\n",
      "6465\n",
      "6472\n",
      "6479\n",
      "6485\n",
      "6491\n",
      "6497\n",
      "6503\n",
      "6509\n",
      "6515\n",
      "6521\n",
      "6527\n",
      "6533\n",
      "6539\n",
      "6545\n",
      "6551\n",
      "6557\n",
      "6563\n",
      "6569\n",
      "6575\n",
      "6580\n",
      "6585\n",
      "6590\n",
      "6595\n",
      "6600\n",
      "6605\n",
      "6610\n",
      "6615\n",
      "6620\n",
      "6625\n",
      "6630\n",
      "6635\n",
      "6640\n",
      "6645\n",
      "6650\n",
      "6655\n",
      "6660\n",
      "6665\n",
      "6670\n",
      "6675\n",
      "6680\n",
      "6685\n",
      "6690\n",
      "6695\n",
      "6700\n",
      "6705\n",
      "6710\n",
      "6715\n",
      "6720\n",
      "6725\n",
      "6730\n",
      "6734\n",
      "6738\n",
      "6742\n",
      "6746\n",
      "6750\n",
      "6754\n",
      "6758\n",
      "6762\n",
      "6766\n",
      "6770\n",
      "6774\n",
      "6778\n",
      "6782\n",
      "6786\n",
      "6790\n",
      "6794\n",
      "6798\n",
      "6802\n",
      "6806\n",
      "6810\n",
      "6814\n",
      "6818\n",
      "6822\n",
      "6826\n",
      "6830\n",
      "6834\n",
      "6838\n",
      "6842\n",
      "6845\n",
      "6848\n",
      "6851\n",
      "6854\n",
      "6857\n",
      "6860\n",
      "6863\n",
      "6866\n",
      "6869\n",
      "6872\n",
      "6875\n",
      "6878\n",
      "6881\n",
      "6884\n",
      "6887\n",
      "6890\n",
      "6893\n",
      "6896\n",
      "6899\n",
      "6902\n",
      "6905\n",
      "6908\n",
      "6911\n",
      "6914\n",
      "6917\n",
      "6920\n",
      "6923\n",
      "6926\n",
      "6929\n",
      "6932\n",
      "6935\n",
      "6938\n",
      "6941\n",
      "6944\n",
      "6947\n",
      "6950\n",
      "6953\n",
      "6956\n",
      "6959\n",
      "6962\n",
      "6965\n",
      "6968\n",
      "6971\n",
      "6974\n",
      "6977\n",
      "6979\n",
      "6981\n",
      "6983\n",
      "6985\n",
      "6987\n",
      "6989\n",
      "6991\n",
      "6993\n",
      "6995\n",
      "6997\n",
      "6999\n",
      "7001\n",
      "7003\n",
      "7005\n",
      "7007\n",
      "7009\n",
      "7011\n",
      "7013\n",
      "7015\n",
      "7017\n",
      "7019\n",
      "7021\n",
      "7023\n",
      "7025\n",
      "7027\n",
      "7029\n",
      "7031\n",
      "7033\n",
      "7035\n",
      "7037\n",
      "7039\n",
      "7041\n",
      "7043\n",
      "7045\n",
      "7047\n",
      "7049\n",
      "7051\n",
      "\n",
      "removing  3139\n",
      "7053\n",
      "7055\n",
      "7057\n",
      "7059\n",
      "7061\n",
      "7063\n",
      "7065\n",
      "7067\n",
      "7069\n",
      "7071\n",
      "7073\n",
      "7075\n",
      "7077\n",
      "7079\n",
      "7081\n",
      "7083\n",
      "7085\n",
      "\n",
      "removing  5863\n",
      "7087\n",
      "7089\n",
      "7091\n",
      "7093\n",
      "7094\n",
      "7095\n",
      "7096\n",
      "7097\n",
      "7098\n",
      "7099\n",
      "7100\n",
      "\n",
      "removing  183\n",
      "7101\n",
      "7102\n",
      "7103\n",
      "7104\n",
      "7105\n",
      "\n",
      "removing  287\n",
      "7106\n",
      "7107\n",
      "\n",
      "removing  424\n",
      "7108\n",
      "7109\n",
      "7110\n",
      "7111\n",
      "7112\n",
      "7113\n",
      "\n",
      "removing  940\n",
      "7114\n",
      "7115\n",
      "7116\n",
      "7117\n",
      "\n",
      "removing  1059\n",
      "7118\n",
      "7119\n",
      "7120\n",
      "7121\n",
      "7122\n",
      "7123\n",
      "7124\n",
      "7125\n",
      "7126\n",
      "7127\n",
      "7128\n",
      "\n",
      "removing  2714\n",
      "7129\n",
      "7130\n",
      "7131\n",
      "7132\n",
      "7133\n",
      "7134\n",
      "\n",
      "removing  3150\n",
      "7135\n",
      "7136\n",
      "7137\n",
      "7138\n",
      "7139\n",
      "7140\n",
      "7141\n",
      "7142\n",
      "7143\n",
      "7144\n",
      "7145\n",
      "7146\n",
      "7147\n",
      "7148\n",
      "7149\n",
      "7150\n",
      "7151\n",
      "7152\n",
      "7153\n",
      "7154\n",
      "7155\n",
      "7156\n",
      "7157\n",
      "7158\n",
      "7159\n",
      "7160\n",
      "7161\n",
      "7162\n",
      "7163\n",
      "7164\n",
      "\n",
      "removing  5828\n",
      "7165\n",
      "7166\n",
      "7167\n",
      "7168\n",
      "7169\n",
      "7170\n",
      "7171\n",
      "7172\n",
      "62.52638101577759\n",
      "619\n",
      "0.00438237190246582\n"
     ]
    }
   ],
   "source": [
    "# Modified Greedy algorithm\n",
    "data_file = np.loadtxt('cap360.txt', dtype=np.int32)\n",
    "# Create a meters x poles matrix\n",
    "Adj_pm = np.zeros((NO_METERS_C, NO_POLES_C))\n",
    "# another modifiable matrix \n",
    "Mod_adj_pm = np.zeros((NO_METERS_C, NO_POLES_C))\n",
    "for x in data_file:\n",
    "    x[0] -= 1 # Converting to 0-index\n",
    "    x[1] -= 1\n",
    "    Adj_pm[x[0]][x[1]] = 1\n",
    "    Mod_adj_pm[x[0]][x[1]] = 1\n",
    "\n",
    "start_time = time.time()\n",
    "# Create an zero vector for covered meters (assigned 0 for uncovered meters)\n",
    "cov_meters = np.zeros(NO_METERS_C)\n",
    "# list of covered meters\n",
    "list_cov_meters = []\n",
    "# list of covering poles\n",
    "list_cov_poles = []\n",
    "total = 0\n",
    "hard_to_cover = np.where(np.sum(Mod_adj_pm, axis = 1) == np.min(np.sum(Mod_adj_pm, axis = 1)))\n",
    "while (np.any(cov_meters == 0)):\n",
    "    # get sorting indices\n",
    "    #indices = np.argsort(np.sum(Mod_adj_pm, axis = 0))[::-1]\n",
    "    # scores = [Mod_adj_pm[hard_to_cover].sum(axis=0) > 0] * Mod_adj_pm.sum(axis=0) # Score 1\n",
    "    scores = [Mod_adj_pm[hard_to_cover].sum(axis=0)] * Mod_adj_pm.sum(axis=0) # Score 2\n",
    "    if (np.any(scores > 0)):\n",
    "        indices = np.argmax(scores)\n",
    "    else: # if all hard to cover meters are covered\n",
    "        indices = np.argmax(np.sum(Mod_adj_pm, axis = 0))\n",
    "    #print(\"best pole is \", indices)\n",
    "    # add the best pole (indices)\n",
    "    list_cov_poles.append(indices)\n",
    "    # find the corresponding column in the matrix\n",
    "    x = Adj_pm[:, indices]\n",
    "    # find the meters covered by this pole and add to overall covered meters\n",
    "    # and set the corresponding row of the meter to zero\n",
    "    met_poles = [int(m) for m in np.argwhere(x == 1)] # time in orders of 10-4\n",
    "    cov_meters[met_poles] += 1\n",
    "    Mod_adj_pm[met_poles, :] = 0\n",
    "    #for met_idx in met_poles:\n",
    "        #cov_meters[int(met_idx)] += 1\n",
    "        #Mod_adj_pm[met_idx, :] = 0\n",
    "    # Clean up\n",
    "    #st = time.time()\n",
    "    clean_up_indices = []\n",
    "    for i in range(0, len(list_cov_poles)): # for each already selected pole(sp)\n",
    "        #if (i >= len(list_cov_poles)):\n",
    "        #    break\n",
    "        sp = list_cov_poles[i]\n",
    "        #cleanable = True\n",
    "        #print(meters_by_sp)\n",
    "        #for x in (meters_by_sp):\n",
    "        #    if ((cov_meters[int(x)] - 1) == 0):\n",
    "        #        cleanable = False\n",
    "        #        break\n",
    "        meters_by_sp = [int(m) for m in np.argwhere(Adj_pm[:, sp] == 1)] # meters covered by sp\n",
    "        if (np.any((cov_meters[meters_by_sp]-1) == 0) == False):\n",
    "            clean_up_indices.append(i)\n",
    "            #list_cov_poles.remove(sp)\n",
    "            print(\"\\nremoving \", sp)\n",
    "            cov_meters[meters_by_sp] -= 1\n",
    "            #for x in (meters_by_sp):\n",
    "                #cov_meters[int(x)] -= 1\n",
    "                #print(x, \"   \", cov_meters[x])\n",
    "    st = time.time()\n",
    "    for j in sorted(clean_up_indices, reverse=True):\n",
    "        del list_cov_poles[j]\n",
    "    total += (time.time()-st)\n",
    "    #print(time.time()-st)\n",
    "    #print(cov_meters)\n",
    "    print(np.sum(cov_meters != 0))\n",
    "print((time.time() - start_time))\n",
    "print(len(list_cov_poles))\n",
    "print(total)\n",
    "#print(list_cov_poles)"
   ]
  },
  {
   "cell_type": "code",
   "execution_count": null,
   "metadata": {},
   "outputs": [],
   "source": [
    "np.min(np.sum(Adj_pm, axis = 1))"
   ]
  },
  {
   "cell_type": "code",
   "execution_count": null,
   "metadata": {},
   "outputs": [],
   "source": [
    "hard_to_cover = np.where(np.sum(Adj_pm, axis = 1) == np.min(np.sum(Adj_pm, axis = 1)))"
   ]
  },
  {
   "cell_type": "code",
   "execution_count": null,
   "metadata": {},
   "outputs": [],
   "source": [
    "hard_to_cover"
   ]
  },
  {
   "cell_type": "code",
   "execution_count": null,
   "metadata": {},
   "outputs": [],
   "source": [
    "if (np.any(Adj_pm[hard_to_cover, i])):\n",
    "    "
   ]
  },
  {
   "cell_type": "code",
   "execution_count": null,
   "metadata": {},
   "outputs": [],
   "source": [
    "Adj_pm[hard_to_cover, 62]"
   ]
  },
  {
   "cell_type": "code",
   "execution_count": null,
   "metadata": {},
   "outputs": [],
   "source": [
    "Adj_pm.sum(axis = 0)"
   ]
  },
  {
   "cell_type": "code",
   "execution_count": null,
   "metadata": {
    "scrolled": false
   },
   "outputs": [],
   "source": [
    "[Adj_pm[hard_to_cover].sum(axis=0) > 0] * Adj_pm.sum(axis=0)"
   ]
  },
  {
   "cell_type": "code",
   "execution_count": null,
   "metadata": {},
   "outputs": [],
   "source": [
    "np.argmax(np.sum(Adj_pm[hard_to_cover], axis =0))"
   ]
  },
  {
   "cell_type": "code",
   "execution_count": null,
   "metadata": {},
   "outputs": [],
   "source": [
    "(Adj_pm[hard_to_cover, 0].sum() > 0)    "
   ]
  },
  {
   "cell_type": "code",
   "execution_count": null,
   "metadata": {},
   "outputs": [],
   "source": [
    "np.where(np.sum(Adj_pm, axis = 1) == 2)"
   ]
  },
  {
   "cell_type": "code",
   "execution_count": null,
   "metadata": {},
   "outputs": [],
   "source": [
    "np.argwhere(np.sum(Adj_pm, axis = 1) == 2)[0]"
   ]
  },
  {
   "cell_type": "code",
   "execution_count": null,
   "metadata": {},
   "outputs": [],
   "source": [
    "Adj_pm\n"
   ]
  },
  {
   "cell_type": "code",
   "execution_count": null,
   "metadata": {},
   "outputs": [],
   "source": [
    "np.argwhere(Adj_pm[0, :] == 1)"
   ]
  },
  {
   "cell_type": "code",
   "execution_count": null,
   "metadata": {
    "scrolled": false
   },
   "outputs": [],
   "source": [
    "# Preprocessing included algorithm\n",
    "data_file = np.loadtxt('cap360.txt', dtype=np.int32)\n",
    "# Create a meters x poles matrix\n",
    "Adj_pm = np.zeros((NO_METERS_C, NO_POLES_C))\n",
    "# another modifiable matrix \n",
    "Mod_adj_pm = np.zeros((NO_METERS_C, NO_POLES_C))\n",
    "for x in data_file:\n",
    "    x[0] -= 1 # Converting to 0-index\n",
    "    x[1] -= 1\n",
    "    Adj_pm[x[0]][x[1]] = 1\n",
    "    Mod_adj_pm[x[0]][x[1]] = 1\n",
    "\n",
    "start_time = time.time()\n",
    "# Create an zero vector for covered meters (assigned 0 for uncovered meters)\n",
    "cov_meters = np.zeros(NO_METERS_C)\n",
    "# list of covered meters\n",
    "list_cov_meters = []\n",
    "# list of covering poles\n",
    "list_cov_poles = []\n",
    "total = 0\n",
    "k = 1\n",
    "while (np.any(cov_meters == 0)):\n",
    "    # get sorting indices\n",
    "    #indices = np.argsort(np.sum(Mod_adj_pm, axis = 0))[::-1]\n",
    "    # Preprocessing (k times):\n",
    "    for i in range(k):\n",
    "        # 1. Removing singleton rows\n",
    "        singleton_rows = [int(x) for x in np.argwhere(np.sum(Mod_adj_pm, axis = 1) == 1)]\n",
    "        # Add the pole corresponding to the first singleton row\n",
    "        if singleton_rows: # if there is atleast one singleton row\n",
    "            print(\"Singleton pole added!\")\n",
    "            pole = int(np.argwhere(Mod_adj_pm[singleton_rows[0], :] == 1))\n",
    "            list_cov_poles.append(pole)        \n",
    "            x = Adj_pm[:, pole]\n",
    "            met_poles = [int(m) for m in np.argwhere(x == 1)] # time in orders of 10-4\n",
    "            cov_meters[met_poles] += 1\n",
    "            Mod_adj_pm[:, pole] = 0 \n",
    "    \n",
    "    indices = np.argmax(np.sum(Mod_adj_pm, axis = 0))\n",
    "    #print(\"best pole is \", indices)\n",
    "    # add the best pole (indices)\n",
    "    list_cov_poles.append(indices)\n",
    "    # find the corresponding column in the matrix\n",
    "    x = Adj_pm[:, indices]\n",
    "    # find the meters covered by this pole and add to overall covered meters\n",
    "    # and set the corresponding row of the meter to zero\n",
    "    met_poles = [int(m) for m in np.argwhere(x == 1)] # time in orders of 10-4\n",
    "    cov_meters[met_poles] += 1\n",
    "    Mod_adj_pm[met_poles, :] = 0\n",
    "    #for met_idx in met_poles:\n",
    "        #cov_meters[int(met_idx)] += 1\n",
    "        #Mod_adj_pm[met_idx, :] = 0\n",
    "    # Clean up\n",
    "    #st = time.time()\n",
    "    clean_up_indices = []\n",
    "    for i in range(0, len(list_cov_poles), 10): # for each already selected pole(sp)\n",
    "        #if (i >= len(list_cov_poles)):\n",
    "        #    break\n",
    "        sp = list_cov_poles[i]\n",
    "        #cleanable = True\n",
    "        #print(meters_by_sp)\n",
    "        #for x in (meters_by_sp):\n",
    "        #    if ((cov_meters[int(x)] - 1) == 0):\n",
    "        #        cleanable = False\n",
    "        #        break\n",
    "        meters_by_sp = [int(m) for m in np.argwhere(Adj_pm[:, sp] == 1)] # meters covered by sp\n",
    "        if (np.any((cov_meters[meters_by_sp]-1) == 0) == False):\n",
    "            clean_up_indices.append(i)\n",
    "            #list_cov_poles.remove(sp)\n",
    "            print(\"\\nremoving \", sp)\n",
    "            cov_meters[meters_by_sp] -= 1\n",
    "            #for x in (meters_by_sp):\n",
    "                #cov_meters[int(x)] -= 1\n",
    "                #print(x, \"   \", cov_meters[x])\n",
    "    st = time.time()\n",
    "    for j in sorted(clean_up_indices, reverse=True):\n",
    "        del list_cov_poles[j]\n",
    "    total += (time.time()-st)\n",
    "    #print(time.time()-st)\n",
    "    #print(cov_meters)\n",
    "    print(np.sum(cov_meters != 0))\n",
    "print((time.time() - start_time))\n",
    "print(len(list_cov_poles))\n",
    "print(total)\n",
    "#print(list_cov_poles)"
   ]
  },
  {
   "cell_type": "code",
   "execution_count": 44,
   "metadata": {
    "collapsed": true
   },
   "outputs": [
    {
     "name": "stdout",
     "output_type": "stream",
     "text": [
      "17\n",
      "28\n",
      "36\n",
      "38\n",
      "42\n",
      "49\n",
      "55\n",
      "61\n",
      "66\n",
      "72\n",
      "76\n",
      "78\n",
      "83\n",
      "87\n",
      "91\n",
      "94\n",
      "97\n",
      "99\n",
      "101\n",
      "102\n"
     ]
    },
    {
     "ename": "KeyboardInterrupt",
     "evalue": "",
     "output_type": "error",
     "traceback": [
      "\u001b[0;31m---------------------------------------------------------------------------\u001b[0m",
      "\u001b[0;31mKeyboardInterrupt\u001b[0m                         Traceback (most recent call last)",
      "\u001b[0;32m<ipython-input-44-2d575c2a592c>\u001b[0m in \u001b[0;36m<module>\u001b[0;34m()\u001b[0m\n\u001b[1;32m     36\u001b[0m         \u001b[0;32melse\u001b[0m\u001b[0;34m:\u001b[0m\u001b[0;34m\u001b[0m\u001b[0m\n\u001b[1;32m     37\u001b[0m             \u001b[0mscores\u001b[0m \u001b[0;34m=\u001b[0m \u001b[0mscores\u001b[0m \u001b[0;34m*\u001b[0m \u001b[0;34m(\u001b[0m\u001b[0;34m(\u001b[0m\u001b[0mMod_adj_pm\u001b[0m\u001b[0;34m[\u001b[0m\u001b[0mt_hard_to_cover\u001b[0m\u001b[0;34m]\u001b[0m\u001b[0;34m.\u001b[0m\u001b[0msum\u001b[0m\u001b[0;34m(\u001b[0m\u001b[0maxis\u001b[0m \u001b[0;34m=\u001b[0m \u001b[0;36m0\u001b[0m\u001b[0;34m)\u001b[0m\u001b[0;34m)\u001b[0m\u001b[0;34m**\u001b[0m\u001b[0;34m(\u001b[0m\u001b[0;36m1\u001b[0m\u001b[0;34m/\u001b[0m\u001b[0;34m(\u001b[0m\u001b[0mi\u001b[0m\u001b[0;34m-\u001b[0m\u001b[0mmpm\u001b[0m\u001b[0;34m+\u001b[0m\u001b[0;36m1\u001b[0m\u001b[0;34m)\u001b[0m\u001b[0;34m)\u001b[0m\u001b[0;34m)\u001b[0m\u001b[0;34m\u001b[0m\u001b[0m\n\u001b[0;32m---> 38\u001b[0;31m     \u001b[0mscores\u001b[0m \u001b[0;34m=\u001b[0m \u001b[0mscores\u001b[0m \u001b[0;34m*\u001b[0m \u001b[0mMod_adj_pm\u001b[0m\u001b[0;34m.\u001b[0m\u001b[0msum\u001b[0m\u001b[0;34m(\u001b[0m\u001b[0maxis\u001b[0m\u001b[0;34m=\u001b[0m\u001b[0;36m0\u001b[0m\u001b[0;34m)\u001b[0m \u001b[0;31m# Score 2\u001b[0m\u001b[0;34m\u001b[0m\u001b[0m\n\u001b[0m\u001b[1;32m     39\u001b[0m     \u001b[0;32mif\u001b[0m \u001b[0;34m(\u001b[0m\u001b[0mnp\u001b[0m\u001b[0;34m.\u001b[0m\u001b[0many\u001b[0m\u001b[0;34m(\u001b[0m\u001b[0mscores\u001b[0m \u001b[0;34m>\u001b[0m \u001b[0;36m0\u001b[0m\u001b[0;34m)\u001b[0m\u001b[0;34m)\u001b[0m\u001b[0;34m:\u001b[0m\u001b[0;34m\u001b[0m\u001b[0m\n\u001b[1;32m     40\u001b[0m         \u001b[0mindices\u001b[0m \u001b[0;34m=\u001b[0m \u001b[0mnp\u001b[0m\u001b[0;34m.\u001b[0m\u001b[0margmax\u001b[0m\u001b[0;34m(\u001b[0m\u001b[0mscores\u001b[0m\u001b[0;34m)\u001b[0m\u001b[0;34m\u001b[0m\u001b[0m\n",
      "\u001b[0;32m/anaconda3/lib/python3.6/site-packages/numpy/core/_methods.py\u001b[0m in \u001b[0;36m_sum\u001b[0;34m(a, axis, dtype, out, keepdims, initial)\u001b[0m\n\u001b[1;32m     34\u001b[0m def _sum(a, axis=None, dtype=None, out=None, keepdims=False,\n\u001b[1;32m     35\u001b[0m          initial=_NoValue):\n\u001b[0;32m---> 36\u001b[0;31m     \u001b[0;32mreturn\u001b[0m \u001b[0mumr_sum\u001b[0m\u001b[0;34m(\u001b[0m\u001b[0ma\u001b[0m\u001b[0;34m,\u001b[0m \u001b[0maxis\u001b[0m\u001b[0;34m,\u001b[0m \u001b[0mdtype\u001b[0m\u001b[0;34m,\u001b[0m \u001b[0mout\u001b[0m\u001b[0;34m,\u001b[0m \u001b[0mkeepdims\u001b[0m\u001b[0;34m,\u001b[0m \u001b[0minitial\u001b[0m\u001b[0;34m)\u001b[0m\u001b[0;34m\u001b[0m\u001b[0m\n\u001b[0m\u001b[1;32m     37\u001b[0m \u001b[0;34m\u001b[0m\u001b[0m\n\u001b[1;32m     38\u001b[0m def _prod(a, axis=None, dtype=None, out=None, keepdims=False,\n",
      "\u001b[0;31mKeyboardInterrupt\u001b[0m: "
     ]
    }
   ],
   "source": [
    "# CONSTANTS\n",
    "NO_METERS_P = 108\n",
    "NO_POLES_P = 117\n",
    "NO_METERS_C = 7172\n",
    "NO_POLES_C = 6550\n",
    "# Modified Greedy algorithm\n",
    "data_file = np.loadtxt('phase1.txt', dtype=np.int32)\n",
    "# Create a meters x poles matrix\n",
    "Adj_pm = np.zeros((NO_METERS_C, NO_POLES_C))\n",
    "# another modifiable matrix \n",
    "Mod_adj_pm = np.zeros((NO_METERS_C, NO_POLES_C))\n",
    "for x in data_file:\n",
    "    x[0] -= 1 # Converting to 0-index\n",
    "    x[1] -= 1\n",
    "    Adj_pm[x[0]][x[1]] = 1\n",
    "    Mod_adj_pm[x[0]][x[1]] = 1\n",
    "\n",
    "start_time = time.time()\n",
    "# Create an zero vector for covered meters (assigned 0 for uncovered meters)\n",
    "cov_meters = np.zeros(NO_METERS_C)\n",
    "# list of covered meters\n",
    "list_cov_meters = []\n",
    "# list of covering poles\n",
    "list_cov_poles = []\n",
    "total = 0\n",
    "max_t = 3 # maximum t for t hard to cover\n",
    "while (np.any(cov_meters == 0)):\n",
    "    # get sorting indices\n",
    "    #indices = np.argsort(np.sum(Mod_adj_pm, axis = 0))[::-1]\n",
    "    # scores = [Mod_adj_pm[hard_to_cover].sum(axis=0) > 0] * Mod_adj_pm.sum(axis=0) # Score 1\n",
    "    mpm = np.min(np.sum(Mod_adj_pm, axis = 1)) # min_pole_per_meter\n",
    "    for t in range(int(mpm), int(mpm)+max_t):\n",
    "        t_hard_to_cover = np.where(np.sum(Mod_adj_pm, axis = 1) == i)\n",
    "        if (t == mpm):\n",
    "            scores = Mod_adj_pm[t_hard_to_cover].sum(axis = 0)\n",
    "        else:\n",
    "            scores = scores * ((Mod_adj_pm[t_hard_to_cover].sum(axis = 0))**(1/(i-mpm+1)))\n",
    "    scores = scores * Mod_adj_pm.sum(axis=0) # Score 2\n",
    "    if (np.any(scores > 0)):\n",
    "        indices = np.argmax(scores)\n",
    "    else: # if all hard to cover meters are covered\n",
    "        indices = np.argmax(np.sum(Mod_adj_pm, axis = 0))\n",
    "    #print(\"best pole is \", indices)\n",
    "    # add the best pole (indices)\n",
    "    list_cov_poles.append(indices)\n",
    "    # find the corresponding column in the matrix\n",
    "    x = Adj_pm[:, indices]\n",
    "    # find the meters covered by this pole and add to overall covered meters\n",
    "    # and set the corresponding row of the meter to zero\n",
    "    met_poles = [int(m) for m in np.argwhere(x == 1)] # time in orders of 10-4\n",
    "    cov_meters[met_poles] += 1\n",
    "    Mod_adj_pm[met_poles, :] = 0\n",
    "    #for met_idx in met_poles:\n",
    "        #cov_meters[int(met_idx)] += 1\n",
    "        #Mod_adj_pm[met_idx, :] = 0\n",
    "    # Clean up\n",
    "    #st = time.time()\n",
    "    clean_up_indices = []\n",
    "    for i in range(0, len(list_cov_poles)): # for each already selected pole(sp)\n",
    "        #if (i >= len(list_cov_poles)):\n",
    "        #    break\n",
    "        sp = list_cov_poles[i]\n",
    "        #cleanable = True\n",
    "        #print(meters_by_sp)\n",
    "        #for x in (meters_by_sp):\n",
    "        #    if ((cov_meters[int(x)] - 1) == 0):\n",
    "        #        cleanable = False\n",
    "        #        break\n",
    "        meters_by_sp = [int(m) for m in np.argwhere(Adj_pm[:, sp] == 1)] # meters covered by sp\n",
    "        if (np.any((cov_meters[meters_by_sp]-1) == 0) == False):\n",
    "            clean_up_indices.append(i)\n",
    "            #list_cov_poles.remove(sp)\n",
    "            print(\"\\nremoving \", sp)\n",
    "            cov_meters[meters_by_sp] -= 1\n",
    "            #for x in (meters_by_sp):\n",
    "                #cov_meters[int(x)] -= 1\n",
    "                #print(x, \"   \", cov_meters[x])\n",
    "    st = time.time()\n",
    "    for j in sorted(clean_up_indices, reverse=True):\n",
    "        del list_cov_poles[j]\n",
    "    total += (time.time()-st)\n",
    "    #print(time.time()-st)\n",
    "    #print(cov_meters)\n",
    "    print(np.sum(cov_meters != 0))\n",
    "print((time.time() - start_time))\n",
    "print(len(list_cov_poles))\n",
    "print(total)\n",
    "#print(list_cov_poles)"
   ]
  },
  {
   "cell_type": "code",
   "execution_count": 46,
   "metadata": {},
   "outputs": [],
   "source": [
    "from numba import njit\n",
    "@njit \n",
    "def preprocessing_cols(a):\n",
    "    x, y = a.shape\n",
    "    contained = np.zeros(x, dtype=np.bool_)\n",
    "    for i in range(x):\n",
    "        for j in range(x):\n",
    "            if i != j and not contained[j]:\n",
    "                equal = True\n",
    "                for k in range(y):\n",
    "                    if a[i, k] < a[j, k]:\n",
    "                        equal = False\n",
    "                        break\n",
    "                contained[j] = equal\n",
    "    return contained\n"
   ]
  },
  {
   "cell_type": "code",
   "execution_count": 78,
   "metadata": {},
   "outputs": [],
   "source": [
    "x = np.array([[6, 4, 5], [2, 2, 7], [1, 0, 1]])"
   ]
  },
  {
   "cell_type": "code",
   "execution_count": 79,
   "metadata": {
    "collapsed": true
   },
   "outputs": [
    {
     "data": {
      "text/plain": [
       "array([[6, 4, 5],\n",
       "       [2, 2, 7],\n",
       "       [1, 0, 1]])"
      ]
     },
     "execution_count": 79,
     "metadata": {},
     "output_type": "execute_result"
    }
   ],
   "source": [
    "x"
   ]
  },
  {
   "cell_type": "code",
   "execution_count": 97,
   "metadata": {
    "collapsed": true
   },
   "outputs": [
    {
     "data": {
      "text/plain": [
       "array([[6, 4, 5],\n",
       "       [2, 2, 7],\n",
       "       [1, 0, 1]])"
      ]
     },
     "execution_count": 97,
     "metadata": {},
     "output_type": "execute_result"
    }
   ],
   "source": [
    "x"
   ]
  },
  {
   "cell_type": "code",
   "execution_count": 99,
   "metadata": {
    "collapsed": true
   },
   "outputs": [
    {
     "data": {
      "text/plain": [
       "array([[6, 4, 5],\n",
       "       [2, 2, 7],\n",
       "       [1, 0, 1]])"
      ]
     },
     "execution_count": 99,
     "metadata": {},
     "output_type": "execute_result"
    }
   ],
   "source": [
    "x"
   ]
  },
  {
   "cell_type": "code",
   "execution_count": 102,
   "metadata": {},
   "outputs": [],
   "source": [
    "s = np.sum(x, axis = 1)"
   ]
  },
  {
   "cell_type": "code",
   "execution_count": 105,
   "metadata": {
    "collapsed": true
   },
   "outputs": [
    {
     "data": {
      "text/plain": [
       "2"
      ]
     },
     "execution_count": 105,
     "metadata": {},
     "output_type": "execute_result"
    }
   ],
   "source": [
    "np.min(s[np.argwhere(s > 0)])"
   ]
  },
  {
   "cell_type": "code",
   "execution_count": 80,
   "metadata": {},
   "outputs": [],
   "source": [
    "nzc = [int(p) for p in np.argwhere(np.sum(x, axis = 1) > 0)]\n"
   ]
  },
  {
   "cell_type": "code",
   "execution_count": 86,
   "metadata": {
    "collapsed": true
   },
   "outputs": [
    {
     "data": {
      "text/plain": [
       "array([[6, 4, 5],\n",
       "       [2, 2, 7],\n",
       "       [1, 0, 1]])"
      ]
     },
     "execution_count": 86,
     "metadata": {},
     "output_type": "execute_result"
    }
   ],
   "source": [
    "x"
   ]
  },
  {
   "cell_type": "code",
   "execution_count": 90,
   "metadata": {
    "collapsed": true
   },
   "outputs": [
    {
     "name": "stdout",
     "output_type": "stream",
     "text": [
      "[False  True  True]\n"
     ]
    },
    {
     "data": {
      "text/plain": [
       "array([[1]])"
      ]
     },
     "execution_count": 90,
     "metadata": {},
     "output_type": "execute_result"
    }
   ],
   "source": [
    "p = (np.sum(x, axis = 1) <= np.sum(x[1]))\n",
    "print(p)\n",
    "np.argwhere(np.all(x[0, :] >= x[p, :], axis = 1))"
   ]
  },
  {
   "cell_type": "code",
   "execution_count": 74,
   "metadata": {},
   "outputs": [],
   "source": [
    "hard_to_cover = np.where(np.sum(x, axis = 1) == np.min(np.sum(x, axis = 1)))\n",
    "scores = [x[hard_to_cover].sum(axis=0) > 0] * np.sum(x, axis=0)\n"
   ]
  },
  {
   "cell_type": "code",
   "execution_count": 75,
   "metadata": {
    "collapsed": true
   },
   "outputs": [
    {
     "data": {
      "text/plain": [
       "array([[ 9,  0, 13]])"
      ]
     },
     "execution_count": 75,
     "metadata": {},
     "output_type": "execute_result"
    }
   ],
   "source": [
    "scores"
   ]
  },
  {
   "cell_type": "code",
   "execution_count": 77,
   "metadata": {
    "collapsed": true
   },
   "outputs": [
    {
     "data": {
      "text/plain": [
       "array([1, 0, 1])"
      ]
     },
     "execution_count": 77,
     "metadata": {},
     "output_type": "execute_result"
    }
   ],
   "source": [
    "x[hard_to_cover].sum(axis=0)"
   ]
  },
  {
   "cell_type": "code",
   "execution_count": 65,
   "metadata": {
    "collapsed": true
   },
   "outputs": [
    {
     "data": {
      "text/plain": [
       "array([[ 0,  0, 13]])"
      ]
     },
     "execution_count": 65,
     "metadata": {},
     "output_type": "execute_result"
    }
   ],
   "source": [
    "scores"
   ]
  },
  {
   "cell_type": "code",
   "execution_count": 55,
   "metadata": {},
   "outputs": [
    {
     "data": {
      "text/plain": [
       "array([False,  True, False])"
      ]
     },
     "execution_count": 55,
     "metadata": {},
     "output_type": "execute_result"
    }
   ],
   "source": [
    "preprocessing_cols(x.T)"
   ]
  },
  {
   "cell_type": "code",
   "execution_count": 53,
   "metadata": {},
   "outputs": [],
   "source": [
    "x[:, c] = 0"
   ]
  },
  {
   "cell_type": "code",
   "execution_count": 56,
   "metadata": {},
   "outputs": [
    {
     "data": {
      "text/plain": [
       "array([[6, 0, 5],\n",
       "       [2, 0, 7]])"
      ]
     },
     "execution_count": 56,
     "metadata": {},
     "output_type": "execute_result"
    }
   ],
   "source": [
    "x"
   ]
  },
  {
   "cell_type": "code",
   "execution_count": 91,
   "metadata": {},
   "outputs": [],
   "source": [
    "@njit \n",
    "def preprocessing_rows(a):\n",
    "    x, y = a.shape\n",
    "    contained = np.zeros(x, dtype=np.bool_)\n",
    "    sums = np.sum(a, axis = 1)\n",
    "    for i in range(x):\n",
    "        #print(i)\n",
    "        if (sums[i] == 0): continue\n",
    "        for j in range(i+1, x):\n",
    "            if (sums[j] < sums[i]): continue\n",
    "            if i != j and not contained[j]:\n",
    "                equal = True\n",
    "                for k in range(y):\n",
    "                    if a[i, k] > a[j, k]:\n",
    "                        equal = False\n",
    "                        break\n",
    "                contained[j] = equal\n",
    "    return contained\n"
   ]
  },
  {
   "cell_type": "code",
   "execution_count": 92,
   "metadata": {},
   "outputs": [],
   "source": [
    "a = np.random.randint(0, 2, (6000, 6000))\n"
   ]
  },
  {
   "cell_type": "code",
   "execution_count": 95,
   "metadata": {},
   "outputs": [
    {
     "data": {
      "text/plain": [
       "array([False, False, False, ..., False, False, False])"
      ]
     },
     "execution_count": 95,
     "metadata": {},
     "output_type": "execute_result"
    }
   ],
   "source": [
    "preprocessing_rows(Adj_pm.T)"
   ]
  },
  {
   "cell_type": "code",
   "execution_count": 106,
   "metadata": {
    "collapsed": true
   },
   "outputs": [
    {
     "data": {
      "text/plain": [
       "array([[6, 4, 5],\n",
       "       [2, 2, 7],\n",
       "       [1, 0, 1]])"
      ]
     },
     "execution_count": 106,
     "metadata": {},
     "output_type": "execute_result"
    }
   ],
   "source": [
    "x"
   ]
  },
  {
   "cell_type": "code",
   "execution_count": 107,
   "metadata": {},
   "outputs": [],
   "source": [
    "sums = x.sum(axis = 1)"
   ]
  },
  {
   "cell_type": "code",
   "execution_count": 108,
   "metadata": {},
   "outputs": [
    {
     "data": {
      "text/plain": [
       "array([15, 11,  2])"
      ]
     },
     "execution_count": 108,
     "metadata": {},
     "output_type": "execute_result"
    }
   ],
   "source": [
    "sums"
   ]
  },
  {
   "cell_type": "code",
   "execution_count": 114,
   "metadata": {},
   "outputs": [
    {
     "data": {
      "text/plain": [
       "array([ True, False, False])"
      ]
     },
     "execution_count": 114,
     "metadata": {},
     "output_type": "execute_result"
    }
   ],
   "source": [
    "(sums > 11) & (sums < 17)"
   ]
  },
  {
   "cell_type": "code",
   "execution_count": 115,
   "metadata": {},
   "outputs": [],
   "source": [
    "np_row = [5.23130202293396, 10.260968923568726, 19.349720001220703, 39.67057681083679, 45.682559967041016]\n",
    "numba_row = [1.1376471519470215, 0.60575270652771, 0.9994611740112305, 1.8149030208587646, 2.47564697265625]\n",
    "np_col = [5.184448957443237, 10.404958963394165, 21.189400911331177, 39.817256927490234, 53.3877968788147]\n",
    "numba_col = [22.58574891090393, 48.084291219711304, 96.63394594192505, 172.7141819000244, 220.94148778915405]"
   ]
  },
  {
   "cell_type": "code",
   "execution_count": 116,
   "metadata": {},
   "outputs": [],
   "source": [
    "iter_values = [100, 200, 400, 800, 1000]\n"
   ]
  },
  {
   "cell_type": "code",
   "execution_count": 118,
   "metadata": {},
   "outputs": [],
   "source": [
    "import matplotlib.pyplot as plt"
   ]
  },
  {
   "cell_type": "code",
   "execution_count": 122,
   "metadata": {},
   "outputs": [
    {
     "data": {
      "image/png": "[encoded data removed]",
      "text/plain": [
       "<Figure size 432x288 with 1 Axes>"
      ]
     },
     "metadata": {},
     "output_type": "display_data"
    }
   ],
   "source": [
    "plt.plot(iter_values, np_row, label='numpy')\n",
    "plt.plot(iter_values, numba_row, label = 'numba')\n",
    "plt.legend()\n",
    "plt.xlabel(\"Number of rows in the matrix\")\n",
    "plt.ylabel(\"Time (secs)\")\n",
    "plt.title(\"Rule 2 (removing dominating rows comparison)\")\n",
    "plt.savefig(\"row.pdf\")"
   ]
  },
  {
   "cell_type": "code",
   "execution_count": 124,
   "metadata": {},
   "outputs": [
    {
     "data": {
      "image/png": "[encoded data removed]",
      "text/plain": [
       "<Figure size 432x288 with 1 Axes>"
      ]
     },
     "metadata": {},
     "output_type": "display_data"
    }
   ],
   "source": [
    "plt.plot(iter_values, np_col, label='numpy')\n",
    "plt.plot(iter_values,  numba_col, label = 'numba')\n",
    "plt.legend()\n",
    "plt.xlabel(\"Number of columns in the matrix\")\n",
    "plt.ylabel(\"Time (secs)\")\n",
    "plt.title(\"Rule 3 (removing dominated columns comparison)\")\n",
    "plt.savefig(\"col.pdf\")"
   ]
  },
  {
   "cell_type": "code",
   "execution_count": null,
   "metadata": {},
   "outputs": [],
   "source": [
    "3824, 589"
   ]
  }
 ],
 "metadata": {
  "kernelspec": {
   "display_name": "Python 3",
   "language": "python",
   "name": "python3"
  },
  "language_info": {
   "codemirror_mode": {
    "name": "ipython",
    "version": 3
   },
   "file_extension": ".py",
   "mimetype": "text/x-python",
   "name": "python",
   "nbconvert_exporter": "python",
   "pygments_lexer": "ipython3",
   "version": "3.6.5"
  }
 },
 "nbformat": 4,
 "nbformat_minor": 2
}
