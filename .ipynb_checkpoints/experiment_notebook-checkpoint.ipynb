{
 "cells": [
  {
   "cell_type": "code",
   "execution_count": 1,
   "metadata": {},
   "outputs": [],
   "source": [
    "import numpy as np\n",
    "import time"
   ]
  },
  {
   "cell_type": "code",
   "execution_count": 2,
   "metadata": {},
   "outputs": [],
   "source": [
    "# CONSTANTS\n",
    "NO_METERS_P = 108\n",
    "NO_POLES_P = 117\n",
    "NO_METERS_C = 7172\n",
    "NO_POLES_C = 6550"
   ]
  },
  {
   "cell_type": "code",
   "execution_count": 3,
   "metadata": {},
   "outputs": [],
   "source": [
    "# ask user whether cap360 or phase1\n",
    "#          whether preprocessing or not"
   ]
  },
  {
   "cell_type": "code",
   "execution_count": 24,
   "metadata": {},
   "outputs": [],
   "source": [
    "data_file = np.loadtxt('cap360.txt', dtype=np.int32)\n",
    "#data_file = np.loadtxt('phase1.txt', dtype=np.int32)"
   ]
  },
  {
   "cell_type": "code",
   "execution_count": null,
   "metadata": {},
   "outputs": [],
   "source": [
    "# Create an adjacency matrix of poles and meters\n",
    "Adj_pm = np.zeros((NO_POLES_P, NO_METERS_P))\n",
    "# Create an adjacency list for each pole\n",
    "poles = [[] for i in range(NO_POLES_P)]\n",
    "# Create an adjacency list for each meter\n",
    "meters = [[] for i in range(NO_METERS_P)]\n"
   ]
  },
  {
   "cell_type": "code",
   "execution_count": 25,
   "metadata": {},
   "outputs": [],
   "source": [
    "# Create an adjacency matrix of poles and meters\n",
    "Adj_pm = np.zeros((NO_POLES_C, NO_METERS_C))\n",
    "# Create an adjacency list for each pole\n",
    "poles = [[] for i in range(NO_POLES_C+1)]\n",
    "# Create an adjacency list for each meter\n",
    "meters = [[] for i in range(NO_METERS_C+1)]\n"
   ]
  },
  {
   "cell_type": "code",
   "execution_count": 26,
   "metadata": {
    "scrolled": false
   },
   "outputs": [],
   "source": [
    "for x in data_file:\n",
    "    if (x[1]-1 < 0):\n",
    "        print(\"sime\")\n",
    "        print(x)\n",
    "    #x[0] -= 1 # Converting to 0-index\n",
    "    #x[1] -= 1\n",
    "    #Adj_pm[x[1]][x[0]] = 1\n",
    "    #meters[x[0]].append(x[1])\n",
    "    poles[x[1]].append(x[0])"
   ]
  },
  {
   "cell_type": "code",
   "execution_count": null,
   "metadata": {},
   "outputs": [],
   "source": []
  },
  {
   "cell_type": "code",
   "execution_count": 32,
   "metadata": {},
   "outputs": [],
   "source": [
    "with open(\"testdatafile\", \"w\") as f:\n",
    "    for i in range(NO_POLES_C + 1):\n",
    "        for j in range(len(poles[i])):\n",
    "            if (j == len(poles[j]) - 1):\n",
    "                print(poles[i][j], end = \"\\n\", file = f)\n",
    "            else:\n",
    "                print(poles[i][j], end = \" \", file = f)\n",
    "        #print(\"\\n\", file =f)\n"
   ]
  },
  {
   "cell_type": "code",
   "execution_count": null,
   "metadata": {},
   "outputs": [],
   "source": [
    "start_time = time.time()\n",
    "sorted_array = np.argsort([len(x) for x in poles])[::-1]\n",
    "# Create an empty for covered meters\n",
    "cov_meters = np.zeros(NO_METERS_C)\n",
    "# list of covered meters\n",
    "list_cov_meters = []\n",
    "# list of covering poles\n",
    "list_cov_poles = []\n",
    "j = 0\n",
    "#while (np.any(cov_meters == 0)):\n",
    "for j in range(len(sorted_array)):\n",
    "    best_pole = sorted_array[j] # best pole by length\n",
    "    list_cov_poles.append(best_pole)\n",
    "    for x in (poles[best_pole]):\n",
    "        cov_meters[x] += 1\n",
    "        #if x not in list_cov_meters:\n",
    "         #   list_cov_meters.append(x)\n",
    "    #j += 1\n",
    "    # Clean up\n",
    "    for i in range(0, len(list_cov_poles), 1): # for each already selected pole(sp)\n",
    "        if (i >= len(list_cov_poles)):\n",
    "            break\n",
    "        sp = list_cov_poles[i]\n",
    "        cleanable = True\n",
    "        for x in (poles[sp]):\n",
    "            if ((cov_meters[x] - 1) == 0):\n",
    "                cleanable = False\n",
    "                break\n",
    "        if (cleanable):\n",
    "            list_cov_poles.remove(sp)\n",
    "            #print(\"\\nremoving \", sp)\n",
    "            for x in (poles[sp]):\n",
    "                cov_meters[x] -= 1\n",
    "                #print(x, \"   \", cov_meters[x])\n",
    "           #print(\"----------------------\")\n",
    "print((time.time() - start_time))\n",
    "print(len(list_cov_poles))\n",
    "print(list_cov_poles)"
   ]
  },
  {
   "cell_type": "code",
   "execution_count": null,
   "metadata": {},
   "outputs": [],
   "source": [
    "%%time \n",
    "for i in range(8000):\n",
    "    x = (Adj_pm[:, np.argsort(np.sum(Adj_pm, axis=0))].sum(axis=0))\n"
   ]
  },
  {
   "cell_type": "markdown",
   "metadata": {},
   "source": [
    "### Matrix based solution"
   ]
  },
  {
   "cell_type": "code",
   "execution_count": null,
   "metadata": {},
   "outputs": [],
   "source": [
    "data_file = np.loadtxt('cap360.txt', dtype=np.int32)\n",
    "# Create a meters x poles matrix\n",
    "Adj_pm = np.zeros((NO_METERS_C, NO_POLES_C))\n",
    "# another modifiable matrix \n",
    "Mod_adj_pm = np.zeros((NO_METERS_C, NO_POLES_C))\n",
    "for x in data_file:\n",
    "    if (x[1]-1 < 0):\n",
    "        print(\"sime\")\n",
    "        print(x)\n",
    "    x[0] -= 1 # Converting to 0-index\n",
    "    x[1] -= 1\n",
    "    Adj_pm[x[0]][x[1]] = 1\n",
    "    Mod_adj_pm[x[0]][x[1]] = 1"
   ]
  },
  {
   "cell_type": "code",
   "execution_count": null,
   "metadata": {},
   "outputs": [],
   "source": [
    "st = time.time()\n",
    "Adj_pm[:, np.argsort(np.sum(Adj_pm, axis=0))]\n",
    "print(time.time() - st)"
   ]
  },
  {
   "cell_type": "code",
   "execution_count": null,
   "metadata": {},
   "outputs": [],
   "source": [
    "x = Adj_pm[:, np.argsort(np.sum(Adj_pm, axis=0))]"
   ]
  },
  {
   "cell_type": "code",
   "execution_count": null,
   "metadata": {},
   "outputs": [],
   "source": [
    "a = np.argsort(np.sum(Adj_pm, axis = 0))[::-1]"
   ]
  },
  {
   "cell_type": "code",
   "execution_count": null,
   "metadata": {},
   "outputs": [],
   "source": [
    "a[0]"
   ]
  },
  {
   "cell_type": "code",
   "execution_count": null,
   "metadata": {},
   "outputs": [],
   "source": [
    "l = []"
   ]
  },
  {
   "cell_type": "code",
   "execution_count": null,
   "metadata": {},
   "outputs": [],
   "source": [
    "l.append(int(x) for x in np.argwhere(Adj_pm[:, a[0]] == 1))"
   ]
  },
  {
   "cell_type": "code",
   "execution_count": null,
   "metadata": {},
   "outputs": [],
   "source": [
    "l"
   ]
  },
  {
   "cell_type": "code",
   "execution_count": null,
   "metadata": {},
   "outputs": [],
   "source": []
  },
  {
   "cell_type": "code",
   "execution_count": null,
   "metadata": {},
   "outputs": [],
   "source": [
    "data_file = np.loadtxt('cap360.txt', dtype=np.int32)\n",
    "# Create a meters x poles matrix\n",
    "Adj_pm = np.zeros((NO_METERS_C, NO_POLES_C))\n",
    "# another modifiable matrix \n",
    "Mod_adj_pm = np.zeros((NO_METERS_C, NO_POLES_C))\n",
    "for x in data_file:\n",
    "    if (x[1]-1 < 0):\n",
    "        print(\"sime\")\n",
    "        print(x)\n",
    "    x[0] -= 1 # Converting to 0-index\n",
    "    x[1] -= 1\n",
    "    Adj_pm[x[0]][x[1]] = 1\n",
    "    Mod_adj_pm[x[0]][x[1]] = 1\n",
    "\n",
    "start_time = time.time()\n",
    "# Create an empty for covered meters\n",
    "cov_meters = np.zeros(NO_METERS_C)\n",
    "# list of covered meters\n",
    "list_cov_meters = []\n",
    "# list of covering poles\n",
    "list_cov_poles = []\n",
    "j = 0\n",
    "indices = np.argsort(np.sum(Mod_adj_pm, axis = 0))[::-1]\n",
    "while (np.any(cov_meters == 0)):\n",
    "    # get sorting indices\n",
    "    #indices = np.argsort(np.sum(Mod_adj_pm, axis = 0))[::-1]\n",
    "    # add the best pole (indices[0])\n",
    "    list_cov_poles.append(indices[j])\n",
    "    #print(indices[0],\"pole added\")\n",
    "    # find the corresponding column in the matrix\n",
    "    x = Mod_adj_pm[:, indices[j]]\n",
    "    j += 1\n",
    "    # find the meters covered by this pole and add to overall covered meters\n",
    "    # and set the corresponding row of the meter to zero\n",
    "    met_poles = np.argwhere(x == 1) # orders of 10-4\n",
    "    for met_idx in met_poles:\n",
    "        cov_meters[int(met_idx)] += 1\n",
    "        #Mod_adj_pm[met_idx, :] = 0\n",
    "    # Clean up\n",
    "    #st = time.time()\n",
    "    for i in range(0, len(list_cov_poles)): # for each already selected pole(sp)\n",
    "        if (i >= len(list_cov_poles)):\n",
    "            break\n",
    "        sp = list_cov_poles[i]\n",
    "        cleanable = True\n",
    "        meters_by_sp = np.argwhere(Adj_pm[:, sp] == 1) # meters covered by sp\n",
    "        #print(meters_by_sp)\n",
    "        for x in (meters_by_sp):\n",
    "            if ((cov_meters[int(x)] - 1) == 0):\n",
    "                cleanable = False\n",
    "                break\n",
    "        if (cleanable):\n",
    "            list_cov_poles.remove(sp)\n",
    "            print(\"\\nremoving \", sp)\n",
    "            for x in (meters_by_sp):\n",
    "                cov_meters[int(x)] -= 1\n",
    "                #print(x, \"   \", cov_meters[x])\n",
    "    #print(time.time()-st)\n",
    "    \n",
    "    #print(cov_meters)\n",
    "    print(np.sum(cov_meters != 0))\n",
    "print((time.time() - start_time))\n",
    "print(len(list_cov_poles))\n",
    "#print(list_cov_poles)"
   ]
  },
  {
   "cell_type": "code",
   "execution_count": null,
   "metadata": {},
   "outputs": [],
   "source": [
    "# Greedy algorithm\n",
    "data_file = np.loadtxt('cap360.txt', dtype=np.int32)\n",
    "# Create a meters x poles matrix\n",
    "Adj_pm = np.zeros((NO_METERS_C, NO_POLES_C))\n",
    "# another modifiable matrix \n",
    "Mod_adj_pm = np.zeros((NO_METERS_C, NO_POLES_C))\n",
    "for x in data_file:\n",
    "    x[0] -= 1 # Converting to 0-index\n",
    "    x[1] -= 1\n",
    "    Adj_pm[x[0]][x[1]] = 1\n",
    "    Mod_adj_pm[x[0]][x[1]] = 1\n",
    "\n",
    "start_time = time.time()\n",
    "# Create an zero vector for covered meters (assigned 0 for uncovered meters)\n",
    "cov_meters = np.zeros(NO_METERS_C)\n",
    "# list of covered meters\n",
    "list_cov_meters = []\n",
    "# list of covering poles\n",
    "list_cov_poles = []\n",
    "total = 0\n",
    "while (np.any(cov_meters == 0)):\n",
    "    # get sorting indices\n",
    "    #indices = np.argsort(np.sum(Mod_adj_pm, axis = 0))[::-1]\n",
    "    indices = np.argmax(np.sum(Mod_adj_pm, axis = 0))\n",
    "    #print(\"best pole is \", indices)\n",
    "    # add the best pole (indices)\n",
    "    list_cov_poles.append(indices)\n",
    "    # find the corresponding column in the matrix\n",
    "    x = Adj_pm[:, indices]\n",
    "    # find the meters covered by this pole and add to overall covered meters\n",
    "    # and set the corresponding row of the meter to zero\n",
    "    met_poles = [int(m) for m in np.argwhere(x == 1)] # time in orders of 10-4\n",
    "    cov_meters[met_poles] += 1\n",
    "    Mod_adj_pm[met_poles, :] = 0\n",
    "    #for met_idx in met_poles:\n",
    "        #cov_meters[int(met_idx)] += 1\n",
    "        #Mod_adj_pm[met_idx, :] = 0\n",
    "    # Clean up\n",
    "    #st = time.time()\n",
    "    clean_up_indices = []\n",
    "    for i in range(0, len(list_cov_poles), 10): # for each already selected pole(sp)\n",
    "        #if (i >= len(list_cov_poles)):\n",
    "        #    break\n",
    "        sp = list_cov_poles[i]\n",
    "        #cleanable = True\n",
    "        #print(meters_by_sp)\n",
    "        #for x in (meters_by_sp):\n",
    "        #    if ((cov_meters[int(x)] - 1) == 0):\n",
    "        #        cleanable = False\n",
    "        #        break\n",
    "        meters_by_sp = [int(m) for m in np.argwhere(Adj_pm[:, sp] == 1)] # meters covered by sp\n",
    "        if (np.any((cov_meters[meters_by_sp]-1) == 0) == False):\n",
    "            clean_up_indices.append(i)\n",
    "            #list_cov_poles.remove(sp)\n",
    "            print(\"\\nremoving \", sp)\n",
    "            cov_meters[meters_by_sp] -= 1\n",
    "            #for x in (meters_by_sp):\n",
    "                #cov_meters[int(x)] -= 1\n",
    "                #print(x, \"   \", cov_meters[x])\n",
    "    st = time.time()\n",
    "    for j in sorted(clean_up_indices, reverse=True):\n",
    "        del list_cov_poles[j]\n",
    "    total += (time.time()-st)\n",
    "    #print(time.time()-st)\n",
    "    #print(cov_meters)\n",
    "    #print(np.sum(cov_meters != 0))\n",
    "print((time.time() - start_time))\n",
    "print(len(list_cov_poles))\n",
    "print(total)\n",
    "#print(list_cov_poles)"
   ]
  },
  {
   "cell_type": "code",
   "execution_count": null,
   "metadata": {
    "scrolled": true
   },
   "outputs": [],
   "source": [
    "# Modified Greedy algorithm\n",
    "data_file = np.loadtxt('cap360.txt', dtype=np.int32)\n",
    "# Create a meters x poles matrix\n",
    "Adj_pm = np.zeros((NO_METERS_C, NO_POLES_C))\n",
    "# another modifiable matrix \n",
    "Mod_adj_pm = np.zeros((NO_METERS_C, NO_POLES_C))\n",
    "for x in data_file:\n",
    "    x[0] -= 1 # Converting to 0-index\n",
    "    x[1] -= 1\n",
    "    Adj_pm[x[0]][x[1]] = 1\n",
    "    Mod_adj_pm[x[0]][x[1]] = 1\n",
    "\n",
    "start_time = time.time()\n",
    "# Create an zero vector for covered meters (assigned 0 for uncovered meters)\n",
    "cov_meters = np.zeros(NO_METERS_C)\n",
    "# list of covered meters\n",
    "list_cov_meters = []\n",
    "# list of covering poles\n",
    "list_cov_poles = []\n",
    "total = 0\n",
    "hard_to_cover = np.where(np.sum(Mod_adj_pm, axis = 1) == np.min(np.sum(Mod_adj_pm, axis = 1)))\n",
    "while (np.any(cov_meters == 0)):\n",
    "    # get sorting indices\n",
    "    #indices = np.argsort(np.sum(Mod_adj_pm, axis = 0))[::-1]\n",
    "    # scores = [Mod_adj_pm[hard_to_cover].sum(axis=0) > 0] * Mod_adj_pm.sum(axis=0) # Score 1\n",
    "    scores = [Mod_adj_pm[hard_to_cover].sum(axis=0)] * Mod_adj_pm.sum(axis=0) # Score 2\n",
    "    if (np.any(scores > 0)):\n",
    "        indices = np.argmax(scores)\n",
    "    else: # if all hard to cover meters are covered\n",
    "        indices = np.argmax(np.sum(Mod_adj_pm, axis = 0))\n",
    "    #print(\"best pole is \", indices)\n",
    "    # add the best pole (indices)\n",
    "    list_cov_poles.append(indices)\n",
    "    # find the corresponding column in the matrix\n",
    "    x = Adj_pm[:, indices]\n",
    "    # find the meters covered by this pole and add to overall covered meters\n",
    "    # and set the corresponding row of the meter to zero\n",
    "    met_poles = [int(m) for m in np.argwhere(x == 1)] # time in orders of 10-4\n",
    "    cov_meters[met_poles] += 1\n",
    "    Mod_adj_pm[met_poles, :] = 0\n",
    "    #for met_idx in met_poles:\n",
    "        #cov_meters[int(met_idx)] += 1\n",
    "        #Mod_adj_pm[met_idx, :] = 0\n",
    "    # Clean up\n",
    "    #st = time.time()\n",
    "    clean_up_indices = []\n",
    "    for i in range(0, len(list_cov_poles)): # for each already selected pole(sp)\n",
    "        #if (i >= len(list_cov_poles)):\n",
    "        #    break\n",
    "        sp = list_cov_poles[i]\n",
    "        #cleanable = True\n",
    "        #print(meters_by_sp)\n",
    "        #for x in (meters_by_sp):\n",
    "        #    if ((cov_meters[int(x)] - 1) == 0):\n",
    "        #        cleanable = False\n",
    "        #        break\n",
    "        meters_by_sp = [int(m) for m in np.argwhere(Adj_pm[:, sp] == 1)] # meters covered by sp\n",
    "        if (np.any((cov_meters[meters_by_sp]-1) == 0) == False):\n",
    "            clean_up_indices.append(i)\n",
    "            #list_cov_poles.remove(sp)\n",
    "            print(\"\\nremoving \", sp)\n",
    "            cov_meters[meters_by_sp] -= 1\n",
    "            #for x in (meters_by_sp):\n",
    "                #cov_meters[int(x)] -= 1\n",
    "                #print(x, \"   \", cov_meters[x])\n",
    "    st = time.time()\n",
    "    for j in sorted(clean_up_indices, reverse=True):\n",
    "        del list_cov_poles[j]\n",
    "    total += (time.time()-st)\n",
    "    #print(time.time()-st)\n",
    "    #print(cov_meters)\n",
    "    print(np.sum(cov_meters != 0))\n",
    "print((time.time() - start_time))\n",
    "print(len(list_cov_poles))\n",
    "print(total)\n",
    "#print(list_cov_poles)"
   ]
  },
  {
   "cell_type": "code",
   "execution_count": null,
   "metadata": {},
   "outputs": [],
   "source": [
    "np.min(np.sum(Adj_pm, axis = 1))"
   ]
  },
  {
   "cell_type": "code",
   "execution_count": null,
   "metadata": {},
   "outputs": [],
   "source": [
    "hard_to_cover = np.where(np.sum(Adj_pm, axis = 1) == np.min(np.sum(Adj_pm, axis = 1)))"
   ]
  },
  {
   "cell_type": "code",
   "execution_count": null,
   "metadata": {},
   "outputs": [],
   "source": [
    "hard_to_cover"
   ]
  },
  {
   "cell_type": "code",
   "execution_count": null,
   "metadata": {},
   "outputs": [],
   "source": [
    "if (np.any(Adj_pm[hard_to_cover, i])):\n",
    "    "
   ]
  },
  {
   "cell_type": "code",
   "execution_count": null,
   "metadata": {},
   "outputs": [],
   "source": [
    "Adj_pm[hard_to_cover, 62]"
   ]
  },
  {
   "cell_type": "code",
   "execution_count": null,
   "metadata": {},
   "outputs": [],
   "source": [
    "Adj_pm.sum(axis = 0)"
   ]
  },
  {
   "cell_type": "code",
   "execution_count": null,
   "metadata": {
    "scrolled": false
   },
   "outputs": [],
   "source": [
    "[Adj_pm[hard_to_cover].sum(axis=0) > 0] * Adj_pm.sum(axis=0)"
   ]
  },
  {
   "cell_type": "code",
   "execution_count": null,
   "metadata": {},
   "outputs": [],
   "source": [
    "np.argmax(np.sum(Adj_pm[hard_to_cover], axis =0))"
   ]
  },
  {
   "cell_type": "code",
   "execution_count": null,
   "metadata": {},
   "outputs": [],
   "source": [
    "(Adj_pm[hard_to_cover, 0].sum() > 0)    "
   ]
  },
  {
   "cell_type": "code",
   "execution_count": null,
   "metadata": {},
   "outputs": [],
   "source": [
    "np.where(np.sum(Adj_pm, axis = 1) == 2)"
   ]
  },
  {
   "cell_type": "code",
   "execution_count": null,
   "metadata": {},
   "outputs": [],
   "source": [
    "np.argwhere(np.sum(Adj_pm, axis = 1) == 2)[0]"
   ]
  },
  {
   "cell_type": "code",
   "execution_count": null,
   "metadata": {},
   "outputs": [],
   "source": [
    "Adj_pm\n"
   ]
  },
  {
   "cell_type": "code",
   "execution_count": null,
   "metadata": {},
   "outputs": [],
   "source": [
    "np.argwhere(Adj_pm[0, :] == 1)"
   ]
  },
  {
   "cell_type": "code",
   "execution_count": null,
   "metadata": {
    "scrolled": false
   },
   "outputs": [],
   "source": [
    "# Preprocessing included algorithm\n",
    "data_file = np.loadtxt('cap360.txt', dtype=np.int32)\n",
    "# Create a meters x poles matrix\n",
    "Adj_pm = np.zeros((NO_METERS_C, NO_POLES_C))\n",
    "# another modifiable matrix \n",
    "Mod_adj_pm = np.zeros((NO_METERS_C, NO_POLES_C))\n",
    "for x in data_file:\n",
    "    x[0] -= 1 # Converting to 0-index\n",
    "    x[1] -= 1\n",
    "    Adj_pm[x[0]][x[1]] = 1\n",
    "    Mod_adj_pm[x[0]][x[1]] = 1\n",
    "\n",
    "start_time = time.time()\n",
    "# Create an zero vector for covered meters (assigned 0 for uncovered meters)\n",
    "cov_meters = np.zeros(NO_METERS_C)\n",
    "# list of covered meters\n",
    "list_cov_meters = []\n",
    "# list of covering poles\n",
    "list_cov_poles = []\n",
    "total = 0\n",
    "k = 1\n",
    "while (np.any(cov_meters == 0)):\n",
    "    # get sorting indices\n",
    "    #indices = np.argsort(np.sum(Mod_adj_pm, axis = 0))[::-1]\n",
    "    # Preprocessing (k times):\n",
    "    for i in range(k):\n",
    "        # 1. Removing singleton rows\n",
    "        singleton_rows = [int(x) for x in np.argwhere(np.sum(Mod_adj_pm, axis = 1) == 1)]\n",
    "        # Add the pole corresponding to the first singleton row\n",
    "        if singleton_rows: # if there is atleast one singleton row\n",
    "            print(\"Singleton pole added!\")\n",
    "            pole = int(np.argwhere(Mod_adj_pm[singleton_rows[0], :] == 1))\n",
    "            list_cov_poles.append(pole)        \n",
    "            x = Adj_pm[:, pole]\n",
    "            met_poles = [int(m) for m in np.argwhere(x == 1)] # time in orders of 10-4\n",
    "            cov_meters[met_poles] += 1\n",
    "            Mod_adj_pm[:, pole] = 0 \n",
    "    \n",
    "    indices = np.argmax(np.sum(Mod_adj_pm, axis = 0))\n",
    "    #print(\"best pole is \", indices)\n",
    "    # add the best pole (indices)\n",
    "    list_cov_poles.append(indices)\n",
    "    # find the corresponding column in the matrix\n",
    "    x = Adj_pm[:, indices]\n",
    "    # find the meters covered by this pole and add to overall covered meters\n",
    "    # and set the corresponding row of the meter to zero\n",
    "    met_poles = [int(m) for m in np.argwhere(x == 1)] # time in orders of 10-4\n",
    "    cov_meters[met_poles] += 1\n",
    "    Mod_adj_pm[met_poles, :] = 0\n",
    "    #for met_idx in met_poles:\n",
    "        #cov_meters[int(met_idx)] += 1\n",
    "        #Mod_adj_pm[met_idx, :] = 0\n",
    "    # Clean up\n",
    "    #st = time.time()\n",
    "    clean_up_indices = []\n",
    "    for i in range(0, len(list_cov_poles), 10): # for each already selected pole(sp)\n",
    "        #if (i >= len(list_cov_poles)):\n",
    "        #    break\n",
    "        sp = list_cov_poles[i]\n",
    "        #cleanable = True\n",
    "        #print(meters_by_sp)\n",
    "        #for x in (meters_by_sp):\n",
    "        #    if ((cov_meters[int(x)] - 1) == 0):\n",
    "        #        cleanable = False\n",
    "        #        break\n",
    "        meters_by_sp = [int(m) for m in np.argwhere(Adj_pm[:, sp] == 1)] # meters covered by sp\n",
    "        if (np.any((cov_meters[meters_by_sp]-1) == 0) == False):\n",
    "            clean_up_indices.append(i)\n",
    "            #list_cov_poles.remove(sp)\n",
    "            print(\"\\nremoving \", sp)\n",
    "            cov_meters[meters_by_sp] -= 1\n",
    "            #for x in (meters_by_sp):\n",
    "                #cov_meters[int(x)] -= 1\n",
    "                #print(x, \"   \", cov_meters[x])\n",
    "    st = time.time()\n",
    "    for j in sorted(clean_up_indices, reverse=True):\n",
    "        del list_cov_poles[j]\n",
    "    total += (time.time()-st)\n",
    "    #print(time.time()-st)\n",
    "    #print(cov_meters)\n",
    "    print(np.sum(cov_meters != 0))\n",
    "print((time.time() - start_time))\n",
    "print(len(list_cov_poles))\n",
    "print(total)\n",
    "#print(list_cov_poles)"
   ]
  },
  {
   "cell_type": "code",
   "execution_count": null,
   "metadata": {},
   "outputs": [],
   "source": []
  }
 ],
 "metadata": {
  "kernelspec": {
   "display_name": "Python 3",
   "language": "python",
   "name": "python3"
  },
  "language_info": {
   "codemirror_mode": {
    "name": "ipython",
    "version": 3
   },
   "file_extension": ".py",
   "mimetype": "text/x-python",
   "name": "python",
   "nbconvert_exporter": "python",
   "pygments_lexer": "ipython3",
   "version": "3.6.5"
  }
 },
 "nbformat": 4,
 "nbformat_minor": 2
}
